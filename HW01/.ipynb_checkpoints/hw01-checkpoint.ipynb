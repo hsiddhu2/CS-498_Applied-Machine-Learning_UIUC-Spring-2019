{
 "cells": [
  {
   "cell_type": "markdown",
   "metadata": {},
   "source": [
    "# HW01: Classification With Naive Bayes"
   ]
  },
  {
   "cell_type": "markdown",
   "metadata": {},
   "source": [
    "Description: https://courses.engr.illinois.edu/cs498aml/sp2019/homeworks/homework1.html#about"
   ]
  },
  {
   "cell_type": "code",
   "execution_count": 59,
   "metadata": {
    "colab": {},
    "colab_type": "code",
    "id": "4LJtNriNV7Tr"
   },
   "outputs": [],
   "source": [
    "# import the required libraries\n",
    "import pandas as pd\n",
    "import numpy as np\n",
    "import cv2\n",
    "import matplotlib.pyplot as plt\n",
    "from scipy.stats import norm\n",
    "import math\n",
    "import random\n",
    "from sklearn.model_selection import train_test_split\n",
    "from sklearn.tree import DecisionTreeClassifier\n",
    "from sklearn.metrics import accuracy_score\n",
    "from sklearn.naive_bayes import GaussianNB, BernoulliNB\n",
    "from sklearn.ensemble import RandomForestClassifier\n",
    "from sklearn.preprocessing import binarize"
   ]
  },
  {
   "cell_type": "code",
   "execution_count": 4,
   "metadata": {
    "colab": {
     "base_uri": "https://localhost:8080/",
     "height": 221
    },
    "colab_type": "code",
    "id": "HWxZqnj0WA5e",
    "outputId": "47c89d6c-8220-4b51-88ae-0dcbddd556a1"
   },
   "outputs": [],
   "source": [
    "# function that splits dataset into train and test data\n",
    "def split(dataset,splitRatio):\n",
    "    trainSize = int(len(dataset) * splitRatio)\n",
    "    np.random.shuffle(dataset)\n",
    "    return dataset[:trainSize,:], dataset[trainSize:,:]"
   ]
  },
  {
   "cell_type": "code",
   "execution_count": 61,
   "metadata": {},
   "outputs": [],
   "source": [
    "def image_stretch(images):\n",
    "    images_number,pixels_number=images.shape\n",
    "    origin=np.array(images, copy=True) \n",
    "    stretched=np.zeros((images_number,20*20))\n",
    "    for i in range(images_number):\n",
    "        vis=np.reshape(images[i],(28,28)).astype(np.uint8)\n",
    "        ret,thresh = cv2.threshold(vis,30,255,0)\n",
    "        im2,contours,hierarchy = cv2.findContours(thresh, 1,2)\n",
    "        x_min=255\n",
    "        y_min=255\n",
    "        x_max=0\n",
    "        y_max=0\n",
    "        for c in contours:\n",
    "            x,y,w,h=cv2.boundingRect(c)\n",
    "            x_min=min(x_min,x)\n",
    "            x_max=max(x_max,x+w)\n",
    "            y_min=min(y_min,y)\n",
    "            y_max=max(y_max,y+h)\n",
    "        crop_img = vis[y:y_max, x:x_max]\n",
    "        stretched_image=cv2.resize(crop_img,(20,20))\n",
    "        stretched[i]=stretched_image.flatten()\n",
    "    return stretched"
   ]
  },
  {
   "cell_type": "code",
   "execution_count": 3,
   "metadata": {},
   "outputs": [],
   "source": [
    "def train_model(X,y,model=\"GNB\",threshold=0):\n",
    "    N, d = X.shape\n",
    "    labels = np.unique(y).astype(int)\n",
    "    c_prob = np.zeros(len(labels))\n",
    "    f_mean = np.zeros([len(labels),d]) # this represents p(i|y) in case of binary features\n",
    "    f_std  = np.zeros([len(labels),d]) # this is only relevant for Gaussian dist\n",
    "    \n",
    "    if model==\"BNB\":\n",
    "        X = binarize(X, threshold=0)\n",
    "        \n",
    "    for label in labels:\n",
    "        separated   = X[y==label]\n",
    "        c_prob[label] = len(separated)/N\n",
    "        f_mean[label] = np.nanmean(separated,axis=0)\n",
    "        f_std[label]  = np.nanstd(separated,axis=0)\n",
    "        \n",
    "    return c_prob,f_mean,f_std"
   ]
  },
  {
   "cell_type": "code",
   "execution_count": 105,
   "metadata": {},
   "outputs": [],
   "source": [
    "# function that predicts class labels for Gaussian Model\n",
    "def pred(X, c_prob, f_mean, std, model = \"GNB\"):\n",
    "  \n",
    "    if model==\"GNB\":   # code for Gaussian model\n",
    "        score_matrix = np.array([])\n",
    "        for i in np.arange(len(c_prob)):\n",
    "            score_vec = np.nansum(np.log(norm.pdf(X,f_mean[i],std[i])),axis=1)+np.log(c_prob[i])\n",
    "            score_matrix = np.append(score_matrix, score_vec, axis=0)\n",
    "        score_matrix = score_matrix.reshape((len(c_prob), len(X)))\n",
    "        y_pred = score_matrix.argmax(axis=0)\n",
    "        \n",
    "    else:   # code for Bernoulli model\n",
    "        X = binarize(X, threshold=0)\n",
    "        y_pred = np.zeros(len(X))\n",
    "        for row in np.arange(len(X)):\n",
    "            prob_matrix = np.zeros(f_mean.shape)\n",
    "            for i in np.arange(len(c_prob)):\n",
    "                prob_matrix[i] = f_mean[i]* X[row] + (1-f_mean[i])* (1-X[row])\n",
    "            score_vec = np.nansum(np.log(prob_matrix),axis=1)+np.log(c_prob)\n",
    "            y_pred[row] = score_vec.argmax()\n",
    "\n",
    "    return y_pred"
   ]
  },
  {
   "cell_type": "code",
   "execution_count": 64,
   "metadata": {
    "colab": {},
    "colab_type": "code",
    "id": "MtT6sb3IWeE6"
   },
   "outputs": [],
   "source": [
    "# function that clculates accuracy of a madel given the predictions\n",
    "def get_accuracy(true,pred):\n",
    "    accuracy = sum(true==pred)/len(true)\n",
    "    return accuracy"
   ]
  },
  {
   "cell_type": "code",
   "execution_count": 107,
   "metadata": {},
   "outputs": [],
   "source": [
    "# run NB and calculate train & test accuracies\n",
    "\n",
    "def NB_acc(X_train, y_train, X_test,y_test, model= \"GNB\"):\n",
    "    c_prob, f_mean, std = train_model(X_train, y_train,model= model)\n",
    "    y_train_pred    = pred(X_train,c_prob, f_mean, std, model = model)\n",
    "    train_acc       = get_accuracy(y_train,y_train_pred)\n",
    "    y_test_pred     = pred(X_test,c_prob, f_mean, std, model = model)\n",
    "    test_acc        = get_accuracy(y_test,y_test_pred)\n",
    "    \n",
    "    return train_acc, test_acc"
   ]
  },
  {
   "cell_type": "code",
   "execution_count": 67,
   "metadata": {},
   "outputs": [],
   "source": [
    "# accuracy with sklearn model\n",
    "\n",
    "def sk_acc(X_train, y_train,X_test,y_test,model=GaussianNB()):\n",
    "           \n",
    "    model.fit(X_train, y_train)\n",
    "    y_train_pred = model.predict(X_train)\n",
    "    train_acc = accuracy_score(y_train,y_train_pred)\n",
    "    y_test_pred = model.predict(X_test)\n",
    "    test_acc = accuracy_score(y_test,y_test_pred)\n",
    "    \n",
    "    return train_acc, test_acc"
   ]
  },
  {
   "cell_type": "markdown",
   "metadata": {},
   "source": [
    "## Problem 1: Pima Indians Diabetes Dataset"
   ]
  },
  {
   "cell_type": "markdown",
   "metadata": {},
   "source": [
    "### Part 1A"
   ]
  },
  {
   "cell_type": "code",
   "execution_count": 78,
   "metadata": {},
   "outputs": [
    {
     "name": "stdout",
     "output_type": "stream",
     "text": [
      "(768, 9)\n"
     ]
    }
   ],
   "source": [
    "# load the dataset and covert it numpy array\n",
    "df=pd.read_csv('pima-indians-diabetes.csv',header=None)\n",
    "dataset=df.values\n",
    "print(dataset.shape)"
   ]
  },
  {
   "cell_type": "code",
   "execution_count": 79,
   "metadata": {},
   "outputs": [
    {
     "name": "stdout",
     "output_type": "stream",
     "text": [
      "Part 1A: avarage accuracy: 0.7467532467532467 , StdDev: 0.02845311987039825\n"
     ]
    }
   ],
   "source": [
    "# determine the average accuracy\n",
    "accuracy_1A = []\n",
    "\n",
    "for i in np.arange(10):\n",
    "    train, test = split(dataset, 0.8)\n",
    "    X_train, y_train = train[:,:-1],train[:,-1]\n",
    "    X_test, y_test = test[:,:-1],test[:,-1]\n",
    "    prob, mean, std = train_model(X_train,y_train)\n",
    "    y_test_pred = pred(X_test, prob, mean, std)\n",
    "    acc = get_accuracy(y_test,y_test_pred)\n",
    "    accuracy_1A.append(acc)\n",
    "\n",
    "avg_accuracy_1A = np.mean(accuracy_1A)\n",
    "std_accuracy_1A = np.std(accuracy_1A)\n",
    "print('Part 1A: avarage accuracy: {0} , StdDev: {1}'.format(avg_accuracy_1A,std_accuracy_1A))"
   ]
  },
  {
   "cell_type": "markdown",
   "metadata": {},
   "source": [
    "### Part 1B"
   ]
  },
  {
   "cell_type": "code",
   "execution_count": 80,
   "metadata": {},
   "outputs": [
    {
     "name": "stdout",
     "output_type": "stream",
     "text": [
      "(768, 9)\n"
     ]
    }
   ],
   "source": [
    "# replace '0' in specified columns with nan\n",
    "df2 = df\n",
    "df2[[2,3,5,7]]=df2[[2,3,5,7]].replace(0, np.nan)\n",
    "dataset2=df2.values\n",
    "print(dataset2.shape)"
   ]
  },
  {
   "cell_type": "code",
   "execution_count": 83,
   "metadata": {},
   "outputs": [
    {
     "name": "stdout",
     "output_type": "stream",
     "text": [
      "Part 1A: avarage accuracy: 0.7428571428571429 , StdDev: 0.03413880370933746\n"
     ]
    },
    {
     "name": "stderr",
     "output_type": "stream",
     "text": [
      "C:\\Program Files\\Anaconda3\\lib\\site-packages\\scipy\\stats\\_distn_infrastructure.py:876: RuntimeWarning: invalid value encountered in greater_equal\n",
      "  return (self.a <= x) & (x <= self.b)\n",
      "C:\\Program Files\\Anaconda3\\lib\\site-packages\\scipy\\stats\\_distn_infrastructure.py:876: RuntimeWarning: invalid value encountered in less_equal\n",
      "  return (self.a <= x) & (x <= self.b)\n"
     ]
    }
   ],
   "source": [
    "# determine the average accuracy\n",
    "accuracy_1B = []\n",
    "\n",
    "for i in np.arange(10):\n",
    "    train, test = split(dataset2, 0.8)\n",
    "    X_train, y_train = train[:,:-1],train[:,-1]\n",
    "    X_test, y_test = test[:,:-1],test[:,-1]\n",
    "    prob, mean, std = train_model(X_train,y_train)\n",
    "    y_test_pred = pred(X_test, prob, mean, std)\n",
    "    acc = get_accuracy(y_test,y_test_pred)\n",
    "    accuracy_1B.append(acc)\n",
    "\n",
    "avg_accuracy_1B = np.mean(accuracy_1B)\n",
    "std_accuracy_1B = np.std(accuracy_1B)\n",
    "print('Part 1A: avarage accuracy: {0} , StdDev: {1}'.format(avg_accuracy_1B,std_accuracy_1B))"
   ]
  },
  {
   "cell_type": "markdown",
   "metadata": {},
   "source": [
    "## Problem 2: MNIST Dataset"
   ]
  },
  {
   "cell_type": "code",
   "execution_count": 84,
   "metadata": {},
   "outputs": [
    {
     "name": "stdout",
     "output_type": "stream",
     "text": [
      "Image Data Shape (70000, 784)\n",
      "Label Data Shape (70000,)\n"
     ]
    }
   ],
   "source": [
    "# import mnist data into python\n",
    "from sklearn.datasets import fetch_openml\n",
    "mnist = fetch_openml('mnist_784', version=1, cache=True)\n",
    "\n",
    "X = mnist.data\n",
    "y = mnist.target.astype(np.int)\n",
    "\n",
    "print(\"Image Data Shape\" , X.shape)\n",
    "print(\"Label Data Shape\", y.shape)"
   ]
  },
  {
   "cell_type": "code",
   "execution_count": 86,
   "metadata": {},
   "outputs": [
    {
     "name": "stdout",
     "output_type": "stream",
     "text": [
      "Train Data Shape (60000, 784)\n",
      "Test Data Shape (10000, 784)\n"
     ]
    }
   ],
   "source": [
    "# Use sklearn to split data into training and testing datasets\n",
    "\n",
    "X_train, X_test, y_train, y_test = train_test_split(X, y, test_size=1/7.0, random_state=4)\n",
    "\n",
    "print(\"Train Data Shape\" , X_train.shape)\n",
    "print(\"Test Data Shape\", X_test.shape)"
   ]
  },
  {
   "cell_type": "code",
   "execution_count": 87,
   "metadata": {},
   "outputs": [
    {
     "data": {
      "image/png": "[encoded data removed]",
      "text/plain": [
       "<Figure size 1440x288 with 5 Axes>"
      ]
     },
     "metadata": {},
     "output_type": "display_data"
    }
   ],
   "source": [
    "# plot few images to explore dataset\n",
    "\n",
    "plt.figure(figsize=(20,4))\n",
    "for index, (image, label) in enumerate(zip(X_train[0:5], y_train[0:5])):\n",
    "    plt.subplot(1, 5, index + 1)\n",
    "    plt.imshow(np.reshape(image, (28,28)), cmap=plt.cm.gray)\n",
    "    plt.title('Training: %i\\n' % label, fontsize = 20)"
   ]
  },
  {
   "cell_type": "code",
   "execution_count": 89,
   "metadata": {},
   "outputs": [],
   "source": [
    "streched_train = image_stretch(X_train)\n",
    "streched_test  = image_stretch(X_test)"
   ]
  },
  {
   "cell_type": "code",
   "execution_count": 90,
   "metadata": {},
   "outputs": [
    {
     "data": {
      "image/png": "[encoded data removed]",
      "text/plain": [
       "<Figure size 1440x288 with 5 Axes>"
      ]
     },
     "metadata": {},
     "output_type": "display_data"
    }
   ],
   "source": [
    "# plot few images to explore dataset\n",
    "\n",
    "plt.figure(figsize=(20,4))\n",
    "for index, (image, label) in enumerate(zip(streched_train[0:5], y_train[0:5])):\n",
    "    plt.subplot(1, 5, index + 1)\n",
    "    plt.imshow(np.reshape(image, (20,20)), cmap=plt.cm.gray)\n",
    "    plt.title('Training: %i\\n' % label, fontsize = 20)"
   ]
  },
  {
   "cell_type": "markdown",
   "metadata": {},
   "source": [
    "## Part 2A Naive Bayes Classifier"
   ]
  },
  {
   "cell_type": "code",
   "execution_count": 99,
   "metadata": {},
   "outputs": [
    {
     "name": "stderr",
     "output_type": "stream",
     "text": [
      "__main__:7: RuntimeWarning: divide by zero encountered in log\n"
     ]
    },
    {
     "name": "stdout",
     "output_type": "stream",
     "text": [
      "GuassianNB + Untouched: Training Accuracy: 0.65155\n",
      "GuassianNB + Untouched: Test Accuracy: 0.6597\n"
     ]
    }
   ],
   "source": [
    "# GaussianNB + Untouched dataset\n",
    "\n",
    "train_acc, test_acc = NB_acc(X_train, y_train, X_test,y_test,model=\"GNB\")\n",
    "print('GuassianNB + Untouched: Training Accuracy: {0}'.format(train_acc))\n",
    "print('GuassianNB + Untouched: Test Accuracy: {0}'.format(test_acc))"
   ]
  },
  {
   "cell_type": "code",
   "execution_count": 100,
   "metadata": {},
   "outputs": [
    {
     "name": "stdout",
     "output_type": "stream",
     "text": [
      "GuassianNB + Untouched: Sklearn Training Accuracy: 0.56405\n",
      "GuassianNB + Untouched: Sklearn Test Accuracy: 0.5725\n"
     ]
    }
   ],
   "source": [
    "# GaussianNB + Untouched dataset sklearn accuracy\n",
    "\n",
    "train_acc, test_acc = sk_acc(X_train, y_train, X_test,y_test,model=GaussianNB())\n",
    "print('GuassianNB + Untouched: Sklearn Training Accuracy: {0}'.format(train_acc))\n",
    "print('GuassianNB + Untouched: Sklearn Test Accuracy: {0}'.format(test_acc))"
   ]
  },
  {
   "cell_type": "code",
   "execution_count": 102,
   "metadata": {},
   "outputs": [
    {
     "name": "stderr",
     "output_type": "stream",
     "text": [
      "__main__:7: RuntimeWarning: divide by zero encountered in log\n"
     ]
    },
    {
     "name": "stdout",
     "output_type": "stream",
     "text": [
      "GuassianNB + Streched: Training Accuracy: 0.8276833333333333\n",
      "GuassianNB + Streched: Test Accuracy: 0.8337\n"
     ]
    }
   ],
   "source": [
    "# GaussianNB + Stretched dataset\n",
    "\n",
    "train_acc, test_acc = NB_acc(streched_train, y_train, streched_test,y_test,model=\"GNB\")\n",
    "print('GuassianNB + Streched: Training Accuracy: {0}'.format(train_acc))\n",
    "print('GuassianNB + Streched: Test Accuracy: {0}'.format(test_acc))"
   ]
  },
  {
   "cell_type": "code",
   "execution_count": 103,
   "metadata": {},
   "outputs": [
    {
     "name": "stdout",
     "output_type": "stream",
     "text": [
      "GuassianNB + Streched: Sklearn Training Accuracy: 0.8276833333333333\n",
      "GuassianNB + Streched: Sklearn Test Accuracy: 0.8337\n"
     ]
    }
   ],
   "source": [
    "# GaussianNB + Stretched dataset sklearn accuracy\n",
    "\n",
    "train_acc, test_acc = sk_acc(streched_train, y_train, streched_test,y_test,model=GaussianNB())\n",
    "print('GuassianNB + Streched: Sklearn Training Accuracy: {0}'.format(train_acc))\n",
    "print('GuassianNB + Streched: Sklearn Test Accuracy: {0}'.format(test_acc))"
   ]
  },
  {
   "cell_type": "code",
   "execution_count": 109,
   "metadata": {},
   "outputs": [
    {
     "name": "stderr",
     "output_type": "stream",
     "text": [
      "__main__:19: RuntimeWarning: divide by zero encountered in log\n",
      "__main__:19: RuntimeWarning: divide by zero encountered in log\n"
     ]
    },
    {
     "name": "stdout",
     "output_type": "stream",
     "text": [
      "BernoulliNB + Untouched: Training Accuracy: 0.8342333333333334\n",
      "BernoulliNB + Untouched: Test Accuracy: 0.8346\n"
     ]
    }
   ],
   "source": [
    "# BernoulliNB + Untouched dataset\n",
    "\n",
    "train_acc, test_acc = NB_acc(X_train, y_train, X_test,y_test,model=\"BNB\")\n",
    "print('BernoulliNB + Untouched: Training Accuracy: {0}'.format(train_acc))\n",
    "print('BernoulliNB + Untouched: Test Accuracy: {0}'.format(test_acc))"
   ]
  },
  {
   "cell_type": "code",
   "execution_count": 80,
   "metadata": {},
   "outputs": [
    {
     "name": "stdout",
     "output_type": "stream",
     "text": [
      "BernoulliNB + Untouched: Sklearn Training Accuracy: 0.8322\n",
      "BernoulliNB + Untouched: Sklearn Test Accuracy: 0.834\n"
     ]
    }
   ],
   "source": [
    "# BernoulliNB + Untouched dataset sklearn accuracy\n",
    "\n",
    "train_acc, test_acc = sk_acc(X_train, y_train, X_test,y_test,model=BernoulliNB())\n",
    "print('BernoulliNB + Untouched: Sklearn Training Accuracy: {0}'.format(train_acc))\n",
    "print('BernoulliNB + Untouched: Sklearn Test Accuracy: {0}'.format(test_acc))"
   ]
  },
  {
   "cell_type": "code",
   "execution_count": 110,
   "metadata": {},
   "outputs": [
    {
     "name": "stdout",
     "output_type": "stream",
     "text": [
      "BernoulliNB + Streched: Training Accuracy: 0.7802666666666667\n",
      "BernoulliNB + Streched: Test Accuracy: 0.784\n"
     ]
    }
   ],
   "source": [
    "# BernoulliNB + Stretched dataset\n",
    "\n",
    "train_acc, test_acc = NB_acc(streched_train, y_train, streched_test,y_test,model=\"BNB\")\n",
    "print('BernoulliNB + Streched: Training Accuracy: {0}'.format(train_acc))\n",
    "print('BernoulliNB + Streched: Test Accuracy: {0}'.format(test_acc))"
   ]
  },
  {
   "cell_type": "code",
   "execution_count": 82,
   "metadata": {},
   "outputs": [
    {
     "name": "stdout",
     "output_type": "stream",
     "text": [
      "BernoulliNB + Streched: Sklearn Training Accuracy: 0.78025\n",
      "BernoulliNB + Streched: Sklearn Test Accuracy: 0.784\n"
     ]
    }
   ],
   "source": [
    "# BernoulliNB + Stretched dataset sklearn accuracy\n",
    "\n",
    "train_acc, test_acc = sk_acc(streched_train, y_train, streched_test,y_test,model=BernoulliNB())\n",
    "print('BernoulliNB + Streched: Sklearn Training Accuracy: {0}'.format(train_acc))\n",
    "print('BernoulliNB + Streched: Sklearn Test Accuracy: {0}'.format(test_acc))"
   ]
  },
  {
   "cell_type": "code",
   "execution_count": 113,
   "metadata": {},
   "outputs": [
    {
     "data": {
      "image/png": "[encoded data removed]",
      "text/plain": [
       "<Figure size 1440x288 with 10 Axes>"
      ]
     },
     "metadata": {},
     "output_type": "display_data"
    }
   ],
   "source": [
    "# plot the mean pixel values\n",
    "\n",
    "X = mnist.data\n",
    "y = mnist.target.astype(np.int)\n",
    "mean_digit = np.zeros((10,X.shape[1]))\n",
    "for label in np.arange(10):\n",
    "        separated   = X[y==label]\n",
    "        mean_digit[label] = np.nanmean(separated,axis=0)\n",
    "plt.figure(figsize=(20,4))\n",
    "for i in np.arange(10):\n",
    "    plt.subplot(2, 5,i + 1)\n",
    "    plt.imshow(np.reshape(mean_digit[i], (28,28)), cmap=plt.cm.gray)"
   ]
  },
  {
   "cell_type": "markdown",
   "metadata": {},
   "source": [
    "## Part 2B: RandomForestClassifier"
   ]
  },
  {
   "cell_type": "code",
   "execution_count": 20,
   "metadata": {},
   "outputs": [
    {
     "name": "stdout",
     "output_type": "stream",
     "text": [
      "RandomForestClassifier (10 trees + 4 depth) + Untouched: Training Accuracy: 0.7654333333333333\n",
      "RandomForestClassifier (10 trees + 4 depth) + Untouched: Test Accuracy: 0.7614\n"
     ]
    }
   ],
   "source": [
    "# RandomForestClassifier (10 trees + 4 depth) + Untouched dataset\n",
    "\n",
    "model = RandomForestClassifier(n_estimators=10, max_depth=4,random_state=0)\n",
    "train_acc, test_acc = sk_acc(X_train, y_train, X_test,y_test,model=model)\n",
    "print('RandomForestClassifier (10 trees + 4 depth) + Untouched: Training Accuracy: {0}'.format(train_acc))\n",
    "print('RandomForestClassifier (10 trees + 4 depth) + Untouched: Test Accuracy: {0}'.format(test_acc))"
   ]
  },
  {
   "cell_type": "code",
   "execution_count": 21,
   "metadata": {},
   "outputs": [
    {
     "name": "stdout",
     "output_type": "stream",
     "text": [
      "RandomForestClassifier (10 trees + 4 depth) + Stretched: Training Accuracy: 0.75185\n",
      "RandomForestClassifier (10 trees + 4 depth) + Stretched: Test Accuracy: 0.7548\n"
     ]
    }
   ],
   "source": [
    "# RandomForestClassifier (10 trees + 4 depth) + Stretched dataset\n",
    "\n",
    "model = RandomForestClassifier(n_estimators=10, max_depth=4,random_state=0)\n",
    "train_acc, test_acc = sk_acc(streched_train, y_train, streched_test,y_test,model=model)\n",
    "print('RandomForestClassifier (10 trees + 4 depth) + Stretched: Training Accuracy: {0}'.format(train_acc))\n",
    "print('RandomForestClassifier (10 trees + 4 depth) + Stretched: Test Accuracy: {0}'.format(test_acc))"
   ]
  },
  {
   "cell_type": "code",
   "execution_count": 22,
   "metadata": {},
   "outputs": [
    {
     "name": "stdout",
     "output_type": "stream",
     "text": [
      "RandomForestClassifier (10 trees + 16 depth) + Untouched: Training Accuracy: 0.9954666666666667\n",
      "RandomForestClassifier (10 trees + 16 depth) + Untouched: Test Accuracy: 0.9487\n"
     ]
    }
   ],
   "source": [
    "# RandomForestClassifier (10 trees + 16 depth) + Untouched dataset\n",
    "\n",
    "model = RandomForestClassifier(n_estimators=10, max_depth=16,random_state=0)\n",
    "train_acc, test_acc = sk_acc(X_train, y_train, X_test,y_test,model=model)\n",
    "print('RandomForestClassifier (10 trees + 16 depth) + Untouched: Training Accuracy: {0}'.format(train_acc))\n",
    "print('RandomForestClassifier (10 trees + 16 depth) + Untouched: Test Accuracy: {0}'.format(test_acc))"
   ]
  },
  {
   "cell_type": "code",
   "execution_count": 23,
   "metadata": {},
   "outputs": [
    {
     "name": "stdout",
     "output_type": "stream",
     "text": [
      "RandomForestClassifier (10 trees + 16 depth) + Stretched: Training Accuracy: 0.99705\n",
      "RandomForestClassifier (10 trees + 16 depth) + Stretched: Test Accuracy: 0.9567\n"
     ]
    }
   ],
   "source": [
    "# RandomForestClassifier (10 trees + 16 depth) + Stretched dataset\n",
    "\n",
    "model = RandomForestClassifier(n_estimators=10, max_depth=16,random_state=0)\n",
    "train_acc, test_acc = sk_acc(streched_train, y_train, streched_test,y_test,model=model)\n",
    "print('RandomForestClassifier (10 trees + 16 depth) + Stretched: Training Accuracy: {0}'.format(train_acc))\n",
    "print('RandomForestClassifier (10 trees + 16 depth) + Stretched: Test Accuracy: {0}'.format(test_acc))"
   ]
  },
  {
   "cell_type": "code",
   "execution_count": 24,
   "metadata": {},
   "outputs": [
    {
     "name": "stdout",
     "output_type": "stream",
     "text": [
      "RandomForestClassifier (30 trees + 4 depth) + Untouched: Training Accuracy: 0.8024666666666667\n",
      "RandomForestClassifier (30 trees + 4 depth) + Untouched: Test Accuracy: 0.8004\n"
     ]
    }
   ],
   "source": [
    "# RandomForestClassifier (30 trees + 4 depth) + Untouched dataset\n",
    "\n",
    "model = RandomForestClassifier(n_estimators=30, max_depth=4,random_state=0)\n",
    "train_acc, test_acc = sk_acc(X_train, y_train, X_test,y_test,model=model)\n",
    "print('RandomForestClassifier (30 trees + 4 depth) + Untouched: Training Accuracy: {0}'.format(train_acc))\n",
    "print('RandomForestClassifier (30 trees + 4 depth) + Untouched: Test Accuracy: {0}'.format(test_acc))"
   ]
  },
  {
   "cell_type": "code",
   "execution_count": 25,
   "metadata": {},
   "outputs": [
    {
     "name": "stdout",
     "output_type": "stream",
     "text": [
      "RandomForestClassifier (30 trees + 4 depth) + Stretched: Training Accuracy: 0.7942\n",
      "RandomForestClassifier (30 trees + 4 depth) + Stretched: Test Accuracy: 0.7997\n"
     ]
    }
   ],
   "source": [
    "# RandomForestClassifier (30 trees + 4 depth) + Stretched dataset\n",
    "\n",
    "model = RandomForestClassifier(n_estimators=30, max_depth=4,random_state=0)\n",
    "train_acc, test_acc = sk_acc(streched_train, y_train, streched_test,y_test,model=model)\n",
    "print('RandomForestClassifier (30 trees + 4 depth) + Stretched: Training Accuracy: {0}'.format(train_acc))\n",
    "print('RandomForestClassifier (30 trees + 4 depth) + Stretched: Test Accuracy: {0}'.format(test_acc))"
   ]
  },
  {
   "cell_type": "code",
   "execution_count": 26,
   "metadata": {},
   "outputs": [
    {
     "name": "stdout",
     "output_type": "stream",
     "text": [
      "RandomForestClassifier (30 trees + 16 depth) + Untouched: Training Accuracy: 0.9978\n",
      "RandomForestClassifier (30 trees + 16 depth) + Untouched: Test Accuracy: 0.9637\n"
     ]
    }
   ],
   "source": [
    "# RandomForestClassifier (30 trees + 16 depth) + Untouched dataset\n",
    "\n",
    "model = RandomForestClassifier(n_estimators=30, max_depth=16,random_state=0)\n",
    "train_acc, test_acc = sk_acc(X_train, y_train, X_test,y_test,model=model)\n",
    "print('RandomForestClassifier (30 trees + 16 depth) + Untouched: Training Accuracy: {0}'.format(train_acc))\n",
    "print('RandomForestClassifier (30 trees + 16 depth) + Untouched: Test Accuracy: {0}'.format(test_acc))"
   ]
  },
  {
   "cell_type": "code",
   "execution_count": 27,
   "metadata": {},
   "outputs": [
    {
     "name": "stdout",
     "output_type": "stream",
     "text": [
      "RandomForestClassifier (30 trees + 16 depth) + Stretched: Training Accuracy: 0.9984\n",
      "RandomForestClassifier (30 trees + 16 depth) + Stretched: Test Accuracy: 0.9676\n"
     ]
    }
   ],
   "source": [
    "# RandomForestClassifier (30 trees + 16 depth) + Stretched dataset\n",
    "\n",
    "model = RandomForestClassifier(n_estimators=30, max_depth=16,random_state=0)\n",
    "train_acc, test_acc = sk_acc(streched_train, y_train, streched_test,y_test,model=model)\n",
    "print('RandomForestClassifier (30 trees + 16 depth) + Stretched: Training Accuracy: {0}'.format(train_acc))\n",
    "print('RandomForestClassifier (30 trees + 16 depth) + Stretched: Test Accuracy: {0}'.format(test_acc))"
   ]
  },
  {
   "cell_type": "code",
   "execution_count": null,
   "metadata": {},
   "outputs": [],
   "source": []
  }
 ],
 "metadata": {
  "colab": {
   "name": "hw01.ipynb",
   "provenance": [],
   "version": "0.3.2"
  },
  "kernelspec": {
   "display_name": "Python 3",
   "language": "python",
   "name": "python3"
  },
  "language_info": {
   "codemirror_mode": {
    "name": "ipython",
    "version": 3
   },
   "file_extension": ".py",
   "mimetype": "text/x-python",
   "name": "python",
   "nbconvert_exporter": "python",
   "pygments_lexer": "ipython3",
   "version": "3.7.3"
  },
  "toc": {
   "base_numbering": 1,
   "nav_menu": {},
   "number_sections": true,
   "sideBar": true,
   "skip_h1_title": false,
   "title_cell": "Table of Contents",
   "title_sidebar": "Contents",
   "toc_cell": false,
   "toc_position": {},
   "toc_section_display": true,
   "toc_window_display": false
  },
  "varInspector": {
   "cols": {
    "lenName": 16,
    "lenType": 16,
    "lenVar": 40
   },
   "kernels_config": {
    "python": {
     "delete_cmd_postfix": "",
     "delete_cmd_prefix": "del ",
     "library": "var_list.py",
     "varRefreshCmd": "print(var_dic_list())"
    },
    "r": {
     "delete_cmd_postfix": ") ",
     "delete_cmd_prefix": "rm(",
     "library": "var_list.r",
     "varRefreshCmd": "cat(var_dic_list()) "
    }
   },
   "types_to_exclude": [
    "module",
    "function",
    "builtin_function_or_method",
    "instance",
    "_Feature"
   ],
   "window_display": false
  }
 },
 "nbformat": 4,
 "nbformat_minor": 1
}
