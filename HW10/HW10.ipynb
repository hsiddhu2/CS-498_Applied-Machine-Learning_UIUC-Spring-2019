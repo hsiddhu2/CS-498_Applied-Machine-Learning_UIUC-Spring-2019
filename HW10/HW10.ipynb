{
 "cells": [
  {
   "cell_type": "markdown",
   "metadata": {
    "colab_type": "text",
    "id": "vUTgGUi4JEft"
   },
   "source": [
    "# Homework 10 - CIFAR10 Image Classification with PyTorch"
   ]
  },
  {
   "cell_type": "markdown",
   "metadata": {},
   "source": [
    "Description: https://courses.engr.illinois.edu/cs498aml/sp2019/homeworks/homework10.html"
   ]
  },
  {
   "cell_type": "markdown",
   "metadata": {
    "colab_type": "text",
    "id": "T5Kx8gJBJEW_"
   },
   "source": [
    "## About"
   ]
  },
  {
   "cell_type": "markdown",
   "metadata": {
    "colab_type": "text",
    "id": "aRAalfd1GITX"
   },
   "source": [
    "The goal of the homework is to train a convolutional neural network on the standard CIFAR10 image classfication dataset.\n",
    "\n",
    "When solving machine learning tasks using neural networks, one typically starts with a simple network architecture and then improves the network by adding new layers, retraining, adjusting parameters, retraining, etc.  We attempt to illustrate this process below with several architecture improvements.\n"
   ]
  },
  {
   "cell_type": "markdown",
   "metadata": {
    "colab_type": "text",
    "id": "OCl5gakxJes-"
   },
   "source": [
    "## Dev Environment\n",
    "### Working on Google Colab\n",
    "You may choose to work locally or on Google Colaboratory. You have access to free compute through this service.   Colab is recommended since it will be setup correctly and will have access to GPU resources.\n",
    "1. Visit https://colab.research.google.com/drive \n",
    "2. Navigate to the **`Upload`** tab, and upload your `HW10.ipynb`\n",
    "3. Now on the top right corner, under the `Comment` and `Share` options, you should see a `Connect` option. Once you are connected, you will have access to a VM with 12GB RAM, 50 GB disk space and a single GPU. The dropdown menu will allow you to connect to a local runtime as well.\n",
    "\n",
    "**Notes:** \n",
    "* **If you do not have a working setup for Python 3, this is your best bet. It will also save you from heavy installations like `tensorflow` if you don't want to deal with those.**\n",
    "* ***There is a downside*. You can only use this instance for a single 12-hour stretch, after which your data will be deleted, and you would have redownload all your datasets, any libraries not already on the VM, and regenerate your logs**.\n",
    "\n",
    "\n",
    "### Installing PyTorch and Dependencies\n",
    "\n",
    "The instructions for installing and setting up PyTorch can be found at https://pytorch.org/get-started/locally/. Make sure you follow the instructions for your machine. For any of the remaining libraries used in this assignment:\n",
    "* We have provided a `hw8_requirements.txt` file on the homework web page. \n",
    "* Download this file, and in the same directory you can run `pip3 install -r hw8_requirements.txt`\n",
    "​\n",
    "Check that PyTorch installed correctly by running the following:"
   ]
  },
  {
   "cell_type": "code",
   "execution_count": 1,
   "metadata": {
    "colab": {
     "base_uri": "https://localhost:8080/",
     "height": 102
    },
    "colab_type": "code",
    "executionInfo": {
     "elapsed": 449,
     "status": "ok",
     "timestamp": 1556250468498,
     "user": {
      "displayName": "Qasim Nazir",
      "photoUrl": "https://lh3.googleusercontent.com/-l-ZaWBCgmIs/AAAAAAAAAAI/AAAAAAAAYSo/-zOTCilviDI/s64/photo.jpg",
      "userId": "05547482919120757611"
     },
     "user_tz": 300
    },
    "id": "IaJ6BLrAJeCU",
    "outputId": "fedb2984-777f-47a0-fd20-deaf545becdc"
   },
   "outputs": [
    {
     "data": {
      "text/plain": [
       "tensor([[0.6727, 0.6112, 0.5345],\n",
       "        [0.7707, 0.0481, 0.9676],\n",
       "        [0.3093, 0.4211, 0.1461],\n",
       "        [0.6003, 0.3805, 0.9057],\n",
       "        [0.9781, 0.3022, 0.5507]])"
      ]
     },
     "execution_count": 1,
     "metadata": {
      "tags": []
     },
     "output_type": "execute_result"
    }
   ],
   "source": [
    "import torch\n",
    "torch.rand(5, 3)"
   ]
  },
  {
   "cell_type": "markdown",
   "metadata": {
    "colab_type": "text",
    "id": "nEmmCk1IJiGn"
   },
   "source": [
    "## Part 0 Imports and Basic Setup  (5 Points)"
   ]
  },
  {
   "cell_type": "markdown",
   "metadata": {
    "colab_type": "text",
    "id": "Y3mTddKuXPBU"
   },
   "source": [
    "First, import the required libraries as follows. The libraries we will use will be the same as those in HW8. "
   ]
  },
  {
   "cell_type": "code",
   "execution_count": 0,
   "metadata": {
    "colab": {},
    "colab_type": "code",
    "id": "UwtDsq3VbrNY"
   },
   "outputs": [],
   "source": [
    "import numpy as np\n",
    "import torch\n",
    "from torch import nn\n",
    "from torch import optim\n",
    "\n",
    "import matplotlib.pyplot as plt"
   ]
  },
  {
   "cell_type": "markdown",
   "metadata": {
    "colab_type": "text",
    "id": "QWKp_UGlWTyR"
   },
   "source": [
    "**GPU Support**\n",
    "\n",
    "Training of large network can take a long time. PyTorch supports GPU with just a small amount of effort.\n",
    "\n",
    "When creating our networks, we will call \n",
    "`net.to(device)` to tell the network to train on the GPU, if one is available.  Note, if the network utilizes the GPU, it is important that any tensors we use with it (such as the data) also reside on the CPU.  Thus, a call like `images = images.to(device)` is necessary with any data we want to use with the GPU.\n",
    "\n",
    "Note: If you can't get access to a GPU, don't worry to much.  Since we use very small networks, the difference between CPU and GPU isn't large and in some cases GPU will actually be slower."
   ]
  },
  {
   "cell_type": "code",
   "execution_count": 3,
   "metadata": {
    "colab": {
     "base_uri": "https://localhost:8080/",
     "height": 34
    },
    "colab_type": "code",
    "executionInfo": {
     "elapsed": 240,
     "status": "ok",
     "timestamp": 1556250475814,
     "user": {
      "displayName": "Qasim Nazir",
      "photoUrl": "https://lh3.googleusercontent.com/-l-ZaWBCgmIs/AAAAAAAAAAI/AAAAAAAAYSo/-zOTCilviDI/s64/photo.jpg",
      "userId": "05547482919120757611"
     },
     "user_tz": 300
    },
    "id": "gbGGmnIXYca9",
    "outputId": "ab468c72-3c87-48ff-8765-d46eb7cc8a5b"
   },
   "outputs": [
    {
     "name": "stdout",
     "output_type": "stream",
     "text": [
      "cuda:0\n"
     ]
    }
   ],
   "source": [
    "import torch.cuda as cuda\n",
    "\n",
    "# Use a GPU, i.e. cuda:0 device if it available.\n",
    "device = torch.device(\"cuda:0\" if cuda.is_available() else \"cpu\")\n",
    "print(device)"
   ]
  },
  {
   "cell_type": "markdown",
   "metadata": {
    "colab_type": "text",
    "id": "07RjQbhF1tiK"
   },
   "source": [
    "### Training Code"
   ]
  },
  {
   "cell_type": "code",
   "execution_count": 0,
   "metadata": {
    "cellView": "form",
    "colab": {},
    "colab_type": "code",
    "id": "_DZm8ammPCbL"
   },
   "outputs": [],
   "source": [
    "import time\n",
    "\n",
    "class Flatten(nn.Module):\n",
    "  \"\"\"NN Module that flattens the incoming tensor.\"\"\"\n",
    "  def forward(self, input):\n",
    "    return input.view(input.size(0), -1)\n",
    "  \n",
    "def train(model, train_loader, test_loader, loss_func, opt, num_epochs=10):\n",
    "  all_training_loss = np.zeros((0,2))\n",
    "  all_training_acc = np.zeros((0,2))\n",
    "  all_test_loss = np.zeros((0,2))\n",
    "  all_test_acc = np.zeros((0,2))\n",
    "  \n",
    "  training_step = 0\n",
    "  training_loss, training_acc = 2.0, 0.0\n",
    "  print_every = 1000\n",
    "  \n",
    "  start = time.clock()\n",
    "  \n",
    "  for i in range(num_epochs):\n",
    "    epoch_start = time.clock() \n",
    "   \n",
    "    model.train()\n",
    "    for images, labels in train_loader:\n",
    "      images, labels = images.to(device), labels.to(device)\n",
    "      opt.zero_grad() # set previos gradients zero\n",
    "      \n",
    "      # forward > loss > backward > update\n",
    "      preds = model(images)\n",
    "      loss = loss_func(preds, labels)\n",
    "      loss.backward()\n",
    "      opt.step()\n",
    "      \n",
    "      # calculate train loss & accuracy\n",
    "      training_loss += loss.item()\n",
    "      training_acc += (torch.argmax(preds, dim=1)==labels).float().mean()\n",
    "      \n",
    "      # log & print train loss & accuracy\n",
    "      if training_step % print_every == 0:\n",
    "        training_loss /= print_every\n",
    "        training_acc /= print_every\n",
    "        \n",
    "        all_training_loss = np.concatenate((all_training_loss, [[training_step, training_loss]]))\n",
    "        all_training_acc = np.concatenate((all_training_acc, [[training_step, training_acc]]))\n",
    "        \n",
    "        print('  Epoch %d @ step %d: Train Loss: %3f, Train Accuracy: %3f' % (\n",
    "            i, training_step, training_loss, training_acc))\n",
    "        training_loss, training_acc = 0.0, 0.0\n",
    "        \n",
    "      training_step+=1\n",
    "    \n",
    "    # calculate validation loss & accuracy on test data\n",
    "    model.eval()\n",
    "    with torch.no_grad():\n",
    "      validation_loss, validation_acc = 0.0, 0.0\n",
    "      count = 0\n",
    "      for images, labels in test_loader:\n",
    "        images, labels = images.to(device), labels.to(device)\n",
    "        output = model(images)\n",
    "        validation_loss+=loss_func(output,labels)\n",
    "        validation_acc+=(torch.argmax(output, dim=1) == labels).float().mean()\n",
    "        count += 1\n",
    "      validation_loss/=count\n",
    "      validation_acc/=count\n",
    "      \n",
    "      all_test_loss = np.concatenate((all_test_loss, [[training_step, validation_loss]]))\n",
    "      all_test_acc = np.concatenate((all_test_acc, [[training_step, validation_acc]]))\n",
    "      \n",
    "      epoch_time = time.clock() - epoch_start\n",
    "      \n",
    "      print('Epoch %d Test Loss: %3f, Test Accuracy: %3f, time: %.1fs' % (\n",
    "          i, validation_loss, validation_acc, epoch_time))\n",
    "      \n",
    "  total_time = time.clock() - start\n",
    "  print('Final Test Loss: %3f, Test Accuracy: %3f, Total time: %.1fs' % (\n",
    "      validation_loss, validation_acc, total_time))\n",
    "\n",
    "  return {'loss': { 'train': all_training_loss, 'test': all_test_loss },\n",
    "          'accuracy': { 'train': all_training_acc, 'test': all_test_acc }}\n",
    "\n",
    "def plot_graphs(model_name, metrics):\n",
    "  for metric, values in metrics.items():\n",
    "    for name, v in values.items():\n",
    "      plt.plot(v[:,0], v[:,1], label=name)\n",
    "    plt.title(f'{metric} for {model_name}')\n",
    "    plt.legend()\n",
    "    plt.xlabel(\"Training Steps\")\n",
    "    plt.ylabel(metric)\n",
    "    plt.show()\n",
    "    "
   ]
  },
  {
   "cell_type": "markdown",
   "metadata": {
    "colab_type": "text",
    "id": "1RupXQbCaXb3"
   },
   "source": [
    "Load the** CIFA-10** dataset and define the transformations. You may also want to print its structure, size, as well as sample a few images to get a sense of how to design the network. "
   ]
  },
  {
   "cell_type": "code",
   "execution_count": 0,
   "metadata": {
    "colab": {},
    "colab_type": "code",
    "id": "mIJmLIgaZ_d3"
   },
   "outputs": [],
   "source": [
    "!mkdir hw10_data"
   ]
  },
  {
   "cell_type": "code",
   "execution_count": 6,
   "metadata": {
    "colab": {
     "base_uri": "https://localhost:8080/",
     "height": 51
    },
    "colab_type": "code",
    "executionInfo": {
     "elapsed": 40416,
     "status": "ok",
     "timestamp": 1556250534652,
     "user": {
      "displayName": "Qasim Nazir",
      "photoUrl": "https://lh3.googleusercontent.com/-l-ZaWBCgmIs/AAAAAAAAAAI/AAAAAAAAYSo/-zOTCilviDI/s64/photo.jpg",
      "userId": "05547482919120757611"
     },
     "user_tz": 300
    },
    "id": "aDBbPmPPaQuG",
    "outputId": "95f96040-54fe-4e5c-e992-be844ba1ad23"
   },
   "outputs": [
    {
     "name": "stderr",
     "output_type": "stream",
     "text": [
      "  0%|          | 0/170498071 [00:00<?, ?it/s]"
     ]
    },
    {
     "name": "stdout",
     "output_type": "stream",
     "text": [
      "Downloading https://www.cs.toronto.edu/~kriz/cifar-10-python.tar.gz to hw10_data/cifar-10-python.tar.gz\n"
     ]
    },
    {
     "name": "stderr",
     "output_type": "stream",
     "text": [
      "100%|█████████▉| 170393600/170498071 [00:37<00:00, 3442228.26it/s]"
     ]
    },
    {
     "name": "stdout",
     "output_type": "stream",
     "text": [
      "Files already downloaded and verified\n"
     ]
    }
   ],
   "source": [
    "# Download the data.\n",
    "from torchvision import datasets, transforms\n",
    "\n",
    "transformations = transforms.Compose(\n",
    "    [transforms.ToTensor(),\n",
    "     transforms.Normalize((0.5, 0.5, 0.5), (0.5, 0.5, 0.5))])\n",
    "train_set = datasets.CIFAR10(root='hw10_data/', download=True, transform=transformations)\n",
    "test_set = datasets.CIFAR10(root='hw10_data', download=True, train=False, transform=transformations)"
   ]
  },
  {
   "cell_type": "markdown",
   "metadata": {
    "colab_type": "text",
    "id": "dfomsGyJiKz9"
   },
   "source": [
    "Use `DataLoader` to create a loader for the training set and a loader for the testing set. You can use a `batch_size` of 8 to start, and change it if you wish."
   ]
  },
  {
   "cell_type": "code",
   "execution_count": 0,
   "metadata": {
    "colab": {},
    "colab_type": "code",
    "id": "Ioe04mbSiQiV"
   },
   "outputs": [],
   "source": [
    "from torch.utils.data import DataLoader\n",
    "\n",
    "batch_size = 32\n",
    "train_loader = torch.utils.data.DataLoader(train_set, batch_size, shuffle=True, num_workers=2)\n",
    "test_loader = torch.utils.data.DataLoader(test_set, batch_size, shuffle=True, num_workers=2)\n",
    "\n",
    "input_shape = np.array(train_set[0][0]).shape\n",
    "input_dim = input_shape[1]*input_shape[2]*input_shape[0]\n"
   ]
  },
  {
   "cell_type": "markdown",
   "metadata": {
    "colab_type": "text",
    "id": "3T2-qkh8frqF"
   },
   "source": [
    "## Part 1 CIFAR10 with Fully Connected Neural Netowrk (25 Points)\n",
    "\n",
    "As a warm-up, let's begin by training a two-layer fully connected neural network model on ** CIFAR-10** dataset. You may go back to check HW8 for some basics.\n",
    "\n",
    "We will give you this code to use as a baseline to compare against your CNN models."
   ]
  },
  {
   "cell_type": "code",
   "execution_count": 8,
   "metadata": {
    "colab": {
     "base_uri": "https://localhost:8080/",
     "height": 476
    },
    "colab_type": "code",
    "executionInfo": {
     "elapsed": 129620,
     "status": "ok",
     "timestamp": 1556250705559,
     "user": {
      "displayName": "Qasim Nazir",
      "photoUrl": "https://lh3.googleusercontent.com/-l-ZaWBCgmIs/AAAAAAAAAAI/AAAAAAAAYSo/-zOTCilviDI/s64/photo.jpg",
      "userId": "05547482919120757611"
     },
     "user_tz": 300
    },
    "id": "Ck1CGpRycRFE",
    "outputId": "8c022e5e-0bfc-43a4-9c31-3c6af71b09ce"
   },
   "outputs": [
    {
     "name": "stdout",
     "output_type": "stream",
     "text": [
      "  Epoch 0 @ step 0: Train Loss: 0.004287, Train Accuracy: 0.000125\n",
      "  Epoch 0 @ step 1000: Train Loss: 1.772654, Train Accuracy: 0.375625\n",
      "Epoch 0 Test Loss: 1.672711, Test Accuracy: 0.412041, time: 5.7s\n",
      "  Epoch 1 @ step 2000: Train Loss: 1.676743, Train Accuracy: 0.404875\n",
      "  Epoch 1 @ step 3000: Train Loss: 1.656414, Train Accuracy: 0.410250\n",
      "Epoch 1 Test Loss: 1.681461, Test Accuracy: 0.411242, time: 5.7s\n",
      "  Epoch 2 @ step 4000: Train Loss: 1.640921, Train Accuracy: 0.417125\n",
      "Epoch 2 Test Loss: 1.636957, Test Accuracy: 0.408846, time: 5.4s\n",
      "  Epoch 3 @ step 5000: Train Loss: 1.632107, Train Accuracy: 0.419094\n",
      "  Epoch 3 @ step 6000: Train Loss: 1.624097, Train Accuracy: 0.428875\n",
      "Epoch 3 Test Loss: 1.632707, Test Accuracy: 0.409844, time: 5.5s\n",
      "  Epoch 4 @ step 7000: Train Loss: 1.618297, Train Accuracy: 0.422906\n",
      "Epoch 4 Test Loss: 1.633762, Test Accuracy: 0.420028, time: 5.7s\n",
      "  Epoch 5 @ step 8000: Train Loss: 1.618586, Train Accuracy: 0.425875\n",
      "  Epoch 5 @ step 9000: Train Loss: 1.619208, Train Accuracy: 0.424844\n",
      "Epoch 5 Test Loss: 1.627341, Test Accuracy: 0.426118, time: 5.4s\n",
      "  Epoch 6 @ step 10000: Train Loss: 1.611559, Train Accuracy: 0.433313\n",
      "Epoch 6 Test Loss: 1.649090, Test Accuracy: 0.412440, time: 5.3s\n",
      "  Epoch 7 @ step 11000: Train Loss: 1.618335, Train Accuracy: 0.427250\n",
      "  Epoch 7 @ step 12000: Train Loss: 1.607949, Train Accuracy: 0.430031\n",
      "Epoch 7 Test Loss: 1.611719, Test Accuracy: 0.426318, time: 5.3s\n",
      "  Epoch 8 @ step 13000: Train Loss: 1.608835, Train Accuracy: 0.428469\n",
      "  Epoch 8 @ step 14000: Train Loss: 1.625498, Train Accuracy: 0.425719\n",
      "Epoch 8 Test Loss: 1.670497, Test Accuracy: 0.405551, time: 5.3s\n",
      "  Epoch 9 @ step 15000: Train Loss: 1.608230, Train Accuracy: 0.429375\n",
      "Epoch 9 Test Loss: 1.620814, Test Accuracy: 0.425020, time: 5.4s\n",
      "Final Test Loss: 1.620814, Test Accuracy: 0.425020, Total time: 54.9s\n"
     ]
    }
   ],
   "source": [
    "class TwoLayerModel(nn.Module):\n",
    "  def __init__(self):\n",
    "    super(TwoLayerModel, self).__init__()\n",
    "    self.net = nn.Sequential(\n",
    "      Flatten(), \n",
    "      nn.Linear(input_dim, 64), \n",
    "      nn.ReLU(), \n",
    "      nn.Linear(64, 10))\n",
    "    \n",
    "  def forward(self, x):\n",
    "    return self.net(x)\n",
    "\n",
    "model = TwoLayerModel().to(device)\n",
    "\n",
    "loss = nn.CrossEntropyLoss()\n",
    "optimizer = optim.RMSprop(model.parameters(), lr=0.001, weight_decay=0.01)\n",
    "\n",
    "# Training epoch should be about 15-20 sec each on GPU.\n",
    "metrics = train(model, train_loader, test_loader, loss, optimizer, num_epochs=10)"
   ]
  },
  {
   "cell_type": "markdown",
   "metadata": {
    "colab_type": "text",
    "id": "qjbncuMnKpf7"
   },
   "source": [
    "**Plot the model results**\n",
    "\n",
    "Normally we would want to use Tensorboard for looking at metrics.  However, if colab reset while we are working, we might lose our logs and therefore our metrics.  Let's just plot some graphs that will survive across colab instances."
   ]
  },
  {
   "cell_type": "code",
   "execution_count": 9,
   "metadata": {
    "colab": {
     "base_uri": "https://localhost:8080/",
     "height": 573
    },
    "colab_type": "code",
    "executionInfo": {
     "elapsed": 663,
     "status": "ok",
     "timestamp": 1556250713143,
     "user": {
      "displayName": "Qasim Nazir",
      "photoUrl": "https://lh3.googleusercontent.com/-l-ZaWBCgmIs/AAAAAAAAAAI/AAAAAAAAYSo/-zOTCilviDI/s64/photo.jpg",
      "userId": "05547482919120757611"
     },
     "user_tz": 300
    },
    "id": "CuVL9MJ_D92h",
    "outputId": "43233858-d93a-4c3a-cd77-a3aa02fa5882"
   },
   "outputs": [
    {
     "data": {
      "image/png": "[encoded data removed]",
      "text/plain": [
       "<Figure size 432x288 with 1 Axes>"
      ]
     },
     "metadata": {
      "tags": []
     },
     "output_type": "display_data"
    },
    {
     "data": {
      "image/png": "[encoded data removed]",
      "text/plain": [
       "<Figure size 432x288 with 1 Axes>"
      ]
     },
     "metadata": {
      "tags": []
     },
     "output_type": "display_data"
    }
   ],
   "source": [
    "plot_graphs(\"TwoLayerModel\", metrics)"
   ]
  },
  {
   "cell_type": "markdown",
   "metadata": {
    "colab_type": "text",
    "id": "4_xi8bkkfsM7"
   },
   "source": [
    "## Part 2 Convolutional Neural Network (CNN) (35 Points)\n",
    "\n",
    "Now, let's design a convolution neural netwrok!\n",
    "\n",
    "Build a simple CNN model, inserting 2 CNN layers in from of our 2 layer fully connect model from above:\n",
    "\n",
    "1. A convolution with\t3x3 filter, 16 output channels, stride = 1, padding=1\n",
    "2. A ReLU activation\n",
    "2. A Max-Pooling layer with 2x2 window\n",
    "3. A convolution,\t3x3 filter, 16 output channels, stride = 1, padding=1\n",
    "4. A ReLU activation\n",
    "4. Flatten layer\n",
    "5. Fully connected linear layer with output size 64\n",
    "6. ReLU\n",
    "7. Fully connected linear layer, with output size 10\n",
    "\n",
    "You will have to figure out the input sizes of the first fully connnected layer based on the previous layer sizes. Note that you also need to fill those in the report section (see report section in the notebook for details) "
   ]
  },
  {
   "cell_type": "code",
   "execution_count": 0,
   "metadata": {
    "colab": {},
    "colab_type": "code",
    "id": "tLXjjywngO7g"
   },
   "outputs": [],
   "source": [
    "import torch.nn.functional as F\n",
    "class ConvModel(nn.Module):\n",
    "  # Your Code Here\n",
    "  def __init__(self):\n",
    "    super(ConvModel, self).__init__()\n",
    "    \n",
    "    self.net = nn.Sequential(\n",
    "        nn.Conv2d(3,16,3,1,1),\n",
    "        nn.ReLU(),\n",
    "        nn.MaxPool2d(2,2),\n",
    "        nn.Conv2d(16,16,3,1,1),\n",
    "        nn.ReLU(),\n",
    "        Flatten(), \n",
    "        nn.Linear(4096, 64), \n",
    "        nn.ReLU(), \n",
    "        nn.Linear(64, 10)\n",
    "    )\n",
    "    \n",
    "  def forward(self, x):\n",
    "    return self.net(x)"
   ]
  },
  {
   "cell_type": "code",
   "execution_count": 11,
   "metadata": {
    "colab": {
     "base_uri": "https://localhost:8080/",
     "height": 476
    },
    "colab_type": "code",
    "executionInfo": {
     "elapsed": 138771,
     "status": "ok",
     "timestamp": 1556250868853,
     "user": {
      "displayName": "Qasim Nazir",
      "photoUrl": "https://lh3.googleusercontent.com/-l-ZaWBCgmIs/AAAAAAAAAAI/AAAAAAAAYSo/-zOTCilviDI/s64/photo.jpg",
      "userId": "05547482919120757611"
     },
     "user_tz": 300
    },
    "id": "4pXRSBqIhFFH",
    "outputId": "44431bc6-06bb-4fc6-cf8a-2276902a5445"
   },
   "outputs": [
    {
     "name": "stdout",
     "output_type": "stream",
     "text": [
      "  Epoch 0 @ step 0: Train Loss: 0.004307, Train Accuracy: 0.000094\n",
      "  Epoch 0 @ step 1000: Train Loss: 1.597196, Train Accuracy: 0.416281\n",
      "Epoch 0 Test Loss: 1.358723, Test Accuracy: 0.512979, time: 7.3s\n",
      "  Epoch 1 @ step 2000: Train Loss: 1.392143, Train Accuracy: 0.499594\n",
      "  Epoch 1 @ step 3000: Train Loss: 1.317306, Train Accuracy: 0.529344\n",
      "Epoch 1 Test Loss: 1.324693, Test Accuracy: 0.514377, time: 7.5s\n",
      "  Epoch 2 @ step 4000: Train Loss: 1.277293, Train Accuracy: 0.542969\n",
      "Epoch 2 Test Loss: 1.359997, Test Accuracy: 0.503594, time: 7.5s\n",
      "  Epoch 3 @ step 5000: Train Loss: 1.252705, Train Accuracy: 0.554594\n",
      "  Epoch 3 @ step 6000: Train Loss: 1.224263, Train Accuracy: 0.563219\n",
      "Epoch 3 Test Loss: 1.289326, Test Accuracy: 0.537640, time: 7.5s\n",
      "  Epoch 4 @ step 7000: Train Loss: 1.210711, Train Accuracy: 0.567156\n",
      "Epoch 4 Test Loss: 1.224806, Test Accuracy: 0.556510, time: 8.2s\n",
      "  Epoch 5 @ step 8000: Train Loss: 1.197062, Train Accuracy: 0.572344\n",
      "  Epoch 5 @ step 9000: Train Loss: 1.180133, Train Accuracy: 0.583531\n",
      "Epoch 5 Test Loss: 1.210565, Test Accuracy: 0.573482, time: 7.5s\n",
      "  Epoch 6 @ step 10000: Train Loss: 1.174629, Train Accuracy: 0.585219\n",
      "Epoch 6 Test Loss: 1.176760, Test Accuracy: 0.577276, time: 7.5s\n",
      "  Epoch 7 @ step 11000: Train Loss: 1.169524, Train Accuracy: 0.586844\n",
      "  Epoch 7 @ step 12000: Train Loss: 1.152071, Train Accuracy: 0.590156\n",
      "Epoch 7 Test Loss: 1.150153, Test Accuracy: 0.589657, time: 7.5s\n",
      "  Epoch 8 @ step 13000: Train Loss: 1.161712, Train Accuracy: 0.590313\n",
      "  Epoch 8 @ step 14000: Train Loss: 1.143967, Train Accuracy: 0.593813\n",
      "Epoch 8 Test Loss: 1.265373, Test Accuracy: 0.545327, time: 7.5s\n",
      "  Epoch 9 @ step 15000: Train Loss: 1.146474, Train Accuracy: 0.593313\n",
      "Epoch 9 Test Loss: 1.159240, Test Accuracy: 0.584864, time: 7.5s\n",
      "Final Test Loss: 1.159240, Test Accuracy: 0.584864, Total time: 75.7s\n"
     ]
    }
   ],
   "source": [
    "model = ConvModel().to(device)\n",
    "\n",
    "loss = nn.CrossEntropyLoss()\n",
    "optimizer = optim.RMSprop(model.parameters(), lr=0.001, weight_decay=0.01)\n",
    "\n",
    "metrics = train(model, train_loader, test_loader, loss, optimizer, num_epochs=10)"
   ]
  },
  {
   "cell_type": "code",
   "execution_count": 12,
   "metadata": {
    "colab": {
     "base_uri": "https://localhost:8080/",
     "height": 573
    },
    "colab_type": "code",
    "executionInfo": {
     "elapsed": 534,
     "status": "ok",
     "timestamp": 1556250881192,
     "user": {
      "displayName": "Qasim Nazir",
      "photoUrl": "https://lh3.googleusercontent.com/-l-ZaWBCgmIs/AAAAAAAAAAI/AAAAAAAAYSo/-zOTCilviDI/s64/photo.jpg",
      "userId": "05547482919120757611"
     },
     "user_tz": 300
    },
    "id": "8BGTJw-TPTfh",
    "outputId": "c7c35633-1e21-41a5-be54-f71d71061eb4"
   },
   "outputs": [
    {
     "data": {
      "image/png": "[encoded data removed]",
      "text/plain": [
       "<Figure size 432x288 with 1 Axes>"
      ]
     },
     "metadata": {
      "tags": []
     },
     "output_type": "display_data"
    },
    {
     "data": {
      "image/png": "[encoded data removed]",
      "text/plain": [
       "<Figure size 432x288 with 1 Axes>"
      ]
     },
     "metadata": {
      "tags": []
     },
     "output_type": "display_data"
    }
   ],
   "source": [
    "plot_graphs(\"ConvModel\", metrics)"
   ]
  },
  {
   "cell_type": "markdown",
   "metadata": {
    "colab_type": "text",
    "id": "oFAc6IORmzCJ"
   },
   "source": [
    "Do you notice the improvement over the accuracy compared to that in Part 1?"
   ]
  },
  {
   "cell_type": "markdown",
   "metadata": {
    "colab_type": "text",
    "id": "WNNWiBTImUxV"
   },
   "source": [
    "**Part 1**: Test Accuracy: **0.425020**\n",
    "\n",
    "**Part 2**: Test Accuracy: **0.584864**\n",
    "\n",
    "**Yes, the accuracy of the model improved by adding convolutional layers.**"
   ]
  },
  {
   "cell_type": "markdown",
   "metadata": {
    "colab_type": "text",
    "id": "hXpJgsjhftDP"
   },
   "source": [
    "## Part 3 Open Design Competition (35 Points + 10 bonus points)\n",
    "\n",
    "Try to beat the previous models by adding additional layers, changing parameters, etc.  You should add at least one layer.\n",
    "\n",
    "Possible changes include:\n",
    "*   Dropout\n",
    "*   Batch Normalization\n",
    "*   More layers\n",
    "*   Residual Connections (harder)\n",
    "*   Change layer size\n",
    "*   Pooling layers, stride\n",
    "*   Different optimizer\n",
    "*   Train for longer\n",
    "\n",
    "Once you have a model you think is great, evaluate it against our hidden test data (see hidden_loader above) and upload the results to the leader board on gradescope.  **The top 3 scorers will get a bonus 10 points.**\n",
    "\n",
    "You can steal model structures found on the internet if you want.  The only constraint is that **you must train the model from scratch**.\n"
   ]
  },
  {
   "cell_type": "code",
   "execution_count": 0,
   "metadata": {
    "colab": {},
    "colab_type": "code",
    "id": "K5LyiuTRWJ6J"
   },
   "outputs": [],
   "source": [
    "# You Awesome Super Best model code here\n",
    "\n",
    "# Used model structure from this post and changed a little bit\n",
    "# https://github.com/BeierZhu/CIFAR-10_Pytorch/blob/master/Vgg.py\n",
    "\n",
    "class AwesomeModel(nn.Module):\n",
    "  def __init__(self):\n",
    "    super(AwesomeModel, self).__init__()\n",
    "    \n",
    "    self.net = nn.Sequential(\n",
    "        \n",
    "        # stage 1\n",
    "        nn.Conv2d(3, 64, 3, padding=1),\n",
    "        nn.BatchNorm2d(64),\n",
    "        nn.ReLU(),\n",
    "        nn.Dropout2d(p=0.3),\n",
    "        \n",
    "        nn.Conv2d(64,64, 3, padding=1),\n",
    "        nn.BatchNorm2d(64),\n",
    "        nn.ReLU(),\n",
    "        nn.MaxPool2d(2, 2),\n",
    "        \n",
    "        # stage 2\n",
    "        nn.Conv2d(64, 128, 3, padding=1),\n",
    "        nn.BatchNorm2d(128),\n",
    "        nn.ReLU(),\n",
    "        nn.Dropout2d(p=0.4),\n",
    "\n",
    "        nn.Conv2d(128, 128, 3, padding=1),\n",
    "        nn.BatchNorm2d(128),\n",
    "        nn.ReLU(),\n",
    "        nn.MaxPool2d(2, 2),\n",
    "        \n",
    "        # Stage 3\n",
    "        nn.Conv2d(128, 256, 3, padding=1),\n",
    "        nn.BatchNorm2d(256),\n",
    "        nn.ReLU(),\n",
    "        nn.Dropout2d(p=0.4),\n",
    "\n",
    "        nn.Conv2d(256, 256, 3, padding=1),\n",
    "        nn.BatchNorm2d(256),\n",
    "        nn.ReLU(),\n",
    "        nn.MaxPool2d(2, 2),\n",
    "            \n",
    "        # Stage 4\n",
    "        nn.Conv2d(256, 512, 3, padding=1),           \n",
    "        nn.BatchNorm2d(512),            \n",
    "        nn.ReLU(),            \n",
    "        nn.Dropout2d(p=0.4),\n",
    "        \n",
    "        nn.Conv2d(512, 512, 3, padding=1),\n",
    "        nn.BatchNorm2d(512),\n",
    "        nn.ReLU(),\n",
    "        nn.MaxPool2d(2, 2),\n",
    "\n",
    "        nn.Conv2d(512, 512, 3, padding=1),\n",
    "        nn.BatchNorm2d(512),\n",
    "        nn.ReLU(),\n",
    "        nn.MaxPool2d(2, 2),\n",
    "            \n",
    "        # stage 5\n",
    "        \n",
    "        Flatten(),\n",
    "              \n",
    "        nn.Dropout(p=0.5),\n",
    "        nn.Linear(512, 512), \n",
    "        nn.ReLU(),\n",
    "        \n",
    "        nn.Dropout(p=0.4),\n",
    "        nn.Linear(512, 256), \n",
    "        nn.ReLU(),\n",
    "        \n",
    "        nn.Dropout(p=0.3),\n",
    "        nn.Linear(256, 10), \n",
    "    )\n",
    "    \n",
    "  def forward(self, x):\n",
    "    return self.net(x)"
   ]
  },
  {
   "cell_type": "code",
   "execution_count": 0,
   "metadata": {
    "colab": {},
    "colab_type": "code",
    "id": "XUngo6DUZnhw"
   },
   "outputs": [],
   "source": [
    "model = AwesomeModel().to(device)"
   ]
  },
  {
   "cell_type": "code",
   "execution_count": 15,
   "metadata": {
    "colab": {
     "base_uri": "https://localhost:8080/",
     "height": 2652
    },
    "colab_type": "code",
    "executionInfo": {
     "elapsed": 2417659,
     "status": "ok",
     "timestamp": 1556253315991,
     "user": {
      "displayName": "Qasim Nazir",
      "photoUrl": "https://lh3.googleusercontent.com/-l-ZaWBCgmIs/AAAAAAAAAAI/AAAAAAAAYSo/-zOTCilviDI/s64/photo.jpg",
      "userId": "05547482919120757611"
     },
     "user_tz": 300
    },
    "id": "mjMKgJYsnoUP",
    "outputId": "84275d96-c49f-45e2-fad1-93e384495aef"
   },
   "outputs": [
    {
     "name": "stdout",
     "output_type": "stream",
     "text": [
      "  Epoch 0 @ step 0: Train Loss: 0.004316, Train Accuracy: 0.000094\n",
      "  Epoch 0 @ step 1000: Train Loss: 2.063875, Train Accuracy: 0.195219\n",
      "Epoch 0 Test Loss: 1.739872, Test Accuracy: 0.328974, time: 38.0s\n",
      "  Epoch 1 @ step 2000: Train Loss: 1.766375, Train Accuracy: 0.315219\n",
      "  Epoch 1 @ step 3000: Train Loss: 1.607049, Train Accuracy: 0.389719\n",
      "Epoch 1 Test Loss: 1.411071, Test Accuracy: 0.461262, time: 38.5s\n",
      "  Epoch 2 @ step 4000: Train Loss: 1.468229, Train Accuracy: 0.452188\n",
      "Epoch 2 Test Loss: 1.195680, Test Accuracy: 0.567392, time: 38.1s\n",
      "  Epoch 3 @ step 5000: Train Loss: 1.345738, Train Accuracy: 0.505906\n",
      "  Epoch 3 @ step 6000: Train Loss: 1.243075, Train Accuracy: 0.549656\n",
      "Epoch 3 Test Loss: 1.035183, Test Accuracy: 0.625499, time: 38.4s\n",
      "  Epoch 4 @ step 7000: Train Loss: 1.164685, Train Accuracy: 0.582969\n",
      "Epoch 4 Test Loss: 0.953198, Test Accuracy: 0.663538, time: 38.3s\n",
      "  Epoch 5 @ step 8000: Train Loss: 1.099700, Train Accuracy: 0.605750\n",
      "  Epoch 5 @ step 9000: Train Loss: 1.047218, Train Accuracy: 0.626906\n",
      "Epoch 5 Test Loss: 0.847232, Test Accuracy: 0.696086, time: 38.2s\n",
      "  Epoch 6 @ step 10000: Train Loss: 1.011963, Train Accuracy: 0.636438\n",
      "Epoch 6 Test Loss: 0.819198, Test Accuracy: 0.710064, time: 38.3s\n",
      "  Epoch 7 @ step 11000: Train Loss: 0.957615, Train Accuracy: 0.661875\n",
      "  Epoch 7 @ step 12000: Train Loss: 0.916926, Train Accuracy: 0.677094\n",
      "Epoch 7 Test Loss: 0.745702, Test Accuracy: 0.736522, time: 38.4s\n",
      "  Epoch 8 @ step 13000: Train Loss: 0.880312, Train Accuracy: 0.693156\n",
      "  Epoch 8 @ step 14000: Train Loss: 0.855204, Train Accuracy: 0.701875\n",
      "Epoch 8 Test Loss: 0.696890, Test Accuracy: 0.757987, time: 38.2s\n",
      "  Epoch 9 @ step 15000: Train Loss: 0.816427, Train Accuracy: 0.715844\n",
      "Epoch 9 Test Loss: 0.680104, Test Accuracy: 0.768171, time: 38.3s\n",
      "  Epoch 10 @ step 16000: Train Loss: 0.784167, Train Accuracy: 0.732125\n",
      "  Epoch 10 @ step 17000: Train Loss: 0.753756, Train Accuracy: 0.742656\n",
      "Epoch 10 Test Loss: 0.636115, Test Accuracy: 0.782947, time: 38.2s\n",
      "  Epoch 11 @ step 18000: Train Loss: 0.723888, Train Accuracy: 0.749125\n",
      "Epoch 11 Test Loss: 0.620387, Test Accuracy: 0.789237, time: 38.2s\n",
      "  Epoch 12 @ step 19000: Train Loss: 0.704943, Train Accuracy: 0.760344\n",
      "  Epoch 12 @ step 20000: Train Loss: 0.686425, Train Accuracy: 0.767750\n",
      "Epoch 12 Test Loss: 0.590109, Test Accuracy: 0.801218, time: 38.2s\n",
      "  Epoch 13 @ step 21000: Train Loss: 0.657173, Train Accuracy: 0.775781\n",
      "Epoch 13 Test Loss: 0.568881, Test Accuracy: 0.805312, time: 38.3s\n",
      "  Epoch 14 @ step 22000: Train Loss: 0.660146, Train Accuracy: 0.776031\n",
      "  Epoch 14 @ step 23000: Train Loss: 0.625189, Train Accuracy: 0.787781\n",
      "Epoch 14 Test Loss: 0.569213, Test Accuracy: 0.809405, time: 38.3s\n",
      "  Epoch 15 @ step 24000: Train Loss: 0.609768, Train Accuracy: 0.795938\n",
      "  Epoch 15 @ step 25000: Train Loss: 0.608535, Train Accuracy: 0.793094\n",
      "Epoch 15 Test Loss: 0.535032, Test Accuracy: 0.821585, time: 38.3s\n",
      "  Epoch 16 @ step 26000: Train Loss: 0.575955, Train Accuracy: 0.806438\n",
      "Epoch 16 Test Loss: 0.541370, Test Accuracy: 0.817192, time: 38.2s\n",
      "  Epoch 17 @ step 27000: Train Loss: 0.560903, Train Accuracy: 0.810250\n",
      "  Epoch 17 @ step 28000: Train Loss: 0.555373, Train Accuracy: 0.808531\n",
      "Epoch 17 Test Loss: 0.540128, Test Accuracy: 0.821286, time: 38.3s\n",
      "  Epoch 18 @ step 29000: Train Loss: 0.530582, Train Accuracy: 0.820813\n",
      "Epoch 18 Test Loss: 0.520931, Test Accuracy: 0.831470, time: 38.2s\n",
      "  Epoch 19 @ step 30000: Train Loss: 0.523688, Train Accuracy: 0.823656\n",
      "  Epoch 19 @ step 31000: Train Loss: 0.515785, Train Accuracy: 0.826625\n",
      "Epoch 19 Test Loss: 0.506369, Test Accuracy: 0.831070, time: 38.2s\n",
      "  Epoch 20 @ step 32000: Train Loss: 0.490486, Train Accuracy: 0.834781\n",
      "Epoch 20 Test Loss: 0.516765, Test Accuracy: 0.829972, time: 38.2s\n",
      "  Epoch 21 @ step 33000: Train Loss: 0.491086, Train Accuracy: 0.833125\n",
      "  Epoch 21 @ step 34000: Train Loss: 0.466275, Train Accuracy: 0.840031\n",
      "Epoch 21 Test Loss: 0.493606, Test Accuracy: 0.838758, time: 38.2s\n",
      "  Epoch 22 @ step 35000: Train Loss: 0.460906, Train Accuracy: 0.842906\n",
      "Epoch 22 Test Loss: 0.493132, Test Accuracy: 0.837859, time: 38.3s\n",
      "  Epoch 23 @ step 36000: Train Loss: 0.455245, Train Accuracy: 0.845813\n",
      "  Epoch 23 @ step 37000: Train Loss: 0.436713, Train Accuracy: 0.850125\n",
      "Epoch 23 Test Loss: 0.497351, Test Accuracy: 0.839856, time: 38.5s\n",
      "  Epoch 24 @ step 38000: Train Loss: 0.419437, Train Accuracy: 0.855906\n",
      "  Epoch 24 @ step 39000: Train Loss: 0.427867, Train Accuracy: 0.855250\n",
      "Epoch 24 Test Loss: 0.497224, Test Accuracy: 0.841753, time: 38.2s\n",
      "  Epoch 25 @ step 40000: Train Loss: 0.405917, Train Accuracy: 0.861000\n",
      "Epoch 25 Test Loss: 0.486178, Test Accuracy: 0.844649, time: 38.3s\n",
      "  Epoch 26 @ step 41000: Train Loss: 0.397232, Train Accuracy: 0.864531\n",
      "  Epoch 26 @ step 42000: Train Loss: 0.398492, Train Accuracy: 0.864094\n",
      "Epoch 26 Test Loss: 0.492924, Test Accuracy: 0.842851, time: 38.3s\n",
      "  Epoch 27 @ step 43000: Train Loss: 0.387656, Train Accuracy: 0.867938\n",
      "Epoch 27 Test Loss: 0.469240, Test Accuracy: 0.848343, time: 38.2s\n",
      "  Epoch 28 @ step 44000: Train Loss: 0.381261, Train Accuracy: 0.869719\n",
      "  Epoch 28 @ step 45000: Train Loss: 0.367959, Train Accuracy: 0.875000\n",
      "Epoch 28 Test Loss: 0.491518, Test Accuracy: 0.846546, time: 38.2s\n",
      "  Epoch 29 @ step 46000: Train Loss: 0.353058, Train Accuracy: 0.879000\n",
      "Epoch 29 Test Loss: 0.498740, Test Accuracy: 0.845747, time: 38.5s\n",
      "  Epoch 30 @ step 47000: Train Loss: 0.349537, Train Accuracy: 0.881063\n",
      "  Epoch 30 @ step 48000: Train Loss: 0.337567, Train Accuracy: 0.884719\n",
      "Epoch 30 Test Loss: 0.470260, Test Accuracy: 0.854233, time: 38.5s\n",
      "  Epoch 31 @ step 49000: Train Loss: 0.330268, Train Accuracy: 0.887156\n",
      "  Epoch 31 @ step 50000: Train Loss: 0.327298, Train Accuracy: 0.889344\n",
      "Epoch 31 Test Loss: 0.471880, Test Accuracy: 0.852835, time: 38.3s\n",
      "  Epoch 32 @ step 51000: Train Loss: 0.311669, Train Accuracy: 0.895438\n",
      "Epoch 32 Test Loss: 0.478210, Test Accuracy: 0.852137, time: 38.1s\n",
      "  Epoch 33 @ step 52000: Train Loss: 0.312826, Train Accuracy: 0.893500\n",
      "  Epoch 33 @ step 53000: Train Loss: 0.312008, Train Accuracy: 0.894719\n",
      "Epoch 33 Test Loss: 0.499167, Test Accuracy: 0.851338, time: 38.3s\n",
      "  Epoch 34 @ step 54000: Train Loss: 0.289930, Train Accuracy: 0.900219\n",
      "Epoch 34 Test Loss: 0.494047, Test Accuracy: 0.849241, time: 38.1s\n",
      "  Epoch 35 @ step 55000: Train Loss: 0.291349, Train Accuracy: 0.901125\n",
      "  Epoch 35 @ step 56000: Train Loss: 0.280548, Train Accuracy: 0.905813\n",
      "Epoch 35 Test Loss: 0.493511, Test Accuracy: 0.851238, time: 38.1s\n",
      "  Epoch 36 @ step 57000: Train Loss: 0.270425, Train Accuracy: 0.908281\n",
      "Epoch 36 Test Loss: 0.505886, Test Accuracy: 0.849541, time: 38.2s\n",
      "  Epoch 37 @ step 58000: Train Loss: 0.272724, Train Accuracy: 0.906438\n",
      "  Epoch 37 @ step 59000: Train Loss: 0.266223, Train Accuracy: 0.909531\n",
      "Epoch 37 Test Loss: 0.525338, Test Accuracy: 0.844050, time: 38.2s\n",
      "  Epoch 38 @ step 60000: Train Loss: 0.255988, Train Accuracy: 0.912938\n",
      "Epoch 38 Test Loss: 0.479198, Test Accuracy: 0.855531, time: 38.2s\n",
      "  Epoch 39 @ step 61000: Train Loss: 0.257142, Train Accuracy: 0.911688\n",
      "  Epoch 39 @ step 62000: Train Loss: 0.238708, Train Accuracy: 0.918750\n",
      "Epoch 39 Test Loss: 0.479320, Test Accuracy: 0.857129, time: 38.2s\n",
      "  Epoch 40 @ step 63000: Train Loss: 0.236176, Train Accuracy: 0.919875\n",
      "  Epoch 40 @ step 64000: Train Loss: 0.243539, Train Accuracy: 0.918469\n",
      "Epoch 40 Test Loss: 0.477517, Test Accuracy: 0.856030, time: 38.2s\n",
      "  Epoch 41 @ step 65000: Train Loss: 0.225087, Train Accuracy: 0.922188\n",
      "Epoch 41 Test Loss: 0.494937, Test Accuracy: 0.858427, time: 38.1s\n",
      "  Epoch 42 @ step 66000: Train Loss: 0.222748, Train Accuracy: 0.924219\n",
      "  Epoch 42 @ step 67000: Train Loss: 0.215543, Train Accuracy: 0.928125\n",
      "Epoch 42 Test Loss: 0.491899, Test Accuracy: 0.857728, time: 38.1s\n",
      "  Epoch 43 @ step 68000: Train Loss: 0.214034, Train Accuracy: 0.926750\n",
      "Epoch 43 Test Loss: 0.488777, Test Accuracy: 0.859425, time: 38.1s\n",
      "  Epoch 44 @ step 69000: Train Loss: 0.214166, Train Accuracy: 0.927094\n",
      "  Epoch 44 @ step 70000: Train Loss: 0.201180, Train Accuracy: 0.932063\n",
      "Epoch 44 Test Loss: 0.506589, Test Accuracy: 0.857428, time: 38.2s\n",
      "  Epoch 45 @ step 71000: Train Loss: 0.197636, Train Accuracy: 0.932906\n",
      "Epoch 45 Test Loss: 0.521037, Test Accuracy: 0.857528, time: 38.2s\n",
      "  Epoch 46 @ step 72000: Train Loss: 0.201111, Train Accuracy: 0.931031\n",
      "  Epoch 46 @ step 73000: Train Loss: 0.191837, Train Accuracy: 0.934406\n",
      "Epoch 46 Test Loss: 0.515992, Test Accuracy: 0.857628, time: 38.2s\n",
      "  Epoch 47 @ step 74000: Train Loss: 0.182353, Train Accuracy: 0.937844\n",
      "  Epoch 47 @ step 75000: Train Loss: 0.186912, Train Accuracy: 0.935719\n",
      "Epoch 47 Test Loss: 0.519650, Test Accuracy: 0.860024, time: 38.2s\n",
      "  Epoch 48 @ step 76000: Train Loss: 0.176767, Train Accuracy: 0.940531\n",
      "Epoch 48 Test Loss: 0.533460, Test Accuracy: 0.853435, time: 38.1s\n",
      "  Epoch 49 @ step 77000: Train Loss: 0.173800, Train Accuracy: 0.941844\n",
      "  Epoch 49 @ step 78000: Train Loss: 0.172286, Train Accuracy: 0.941906\n",
      "Epoch 49 Test Loss: 0.520330, Test Accuracy: 0.856629, time: 38.2s\n",
      "  Epoch 50 @ step 79000: Train Loss: 0.166942, Train Accuracy: 0.941469\n",
      "Epoch 50 Test Loss: 0.525385, Test Accuracy: 0.858926, time: 38.2s\n",
      "  Epoch 51 @ step 80000: Train Loss: 0.162864, Train Accuracy: 0.943469\n",
      "  Epoch 51 @ step 81000: Train Loss: 0.158696, Train Accuracy: 0.946625\n",
      "Epoch 51 Test Loss: 0.547873, Test Accuracy: 0.857728, time: 38.2s\n",
      "  Epoch 52 @ step 82000: Train Loss: 0.152656, Train Accuracy: 0.948438\n",
      "Epoch 52 Test Loss: 0.534700, Test Accuracy: 0.858726, time: 38.0s\n",
      "  Epoch 53 @ step 83000: Train Loss: 0.159697, Train Accuracy: 0.946531\n",
      "  Epoch 53 @ step 84000: Train Loss: 0.149814, Train Accuracy: 0.949063\n",
      "Epoch 53 Test Loss: 0.530289, Test Accuracy: 0.861022, time: 38.3s\n",
      "  Epoch 54 @ step 85000: Train Loss: 0.146403, Train Accuracy: 0.950031\n",
      "Epoch 54 Test Loss: 0.540495, Test Accuracy: 0.858626, time: 38.1s\n",
      "  Epoch 55 @ step 86000: Train Loss: 0.141641, Train Accuracy: 0.951594\n",
      "  Epoch 55 @ step 87000: Train Loss: 0.134346, Train Accuracy: 0.954781\n",
      "Epoch 55 Test Loss: 0.540200, Test Accuracy: 0.855531, time: 38.2s\n",
      "  Epoch 56 @ step 88000: Train Loss: 0.139033, Train Accuracy: 0.953125\n",
      "  Epoch 56 @ step 89000: Train Loss: 0.144132, Train Accuracy: 0.949938\n",
      "Epoch 56 Test Loss: 0.569438, Test Accuracy: 0.853934, time: 38.1s\n",
      "  Epoch 57 @ step 90000: Train Loss: 0.135469, Train Accuracy: 0.954250\n",
      "Epoch 57 Test Loss: 0.564087, Test Accuracy: 0.856729, time: 38.2s\n",
      "  Epoch 58 @ step 91000: Train Loss: 0.129687, Train Accuracy: 0.956656\n",
      "  Epoch 58 @ step 92000: Train Loss: 0.126419, Train Accuracy: 0.956875\n",
      "Epoch 58 Test Loss: 0.549876, Test Accuracy: 0.859225, time: 38.2s\n",
      "  Epoch 59 @ step 93000: Train Loss: 0.122108, Train Accuracy: 0.958094\n",
      "Epoch 59 Test Loss: 0.552209, Test Accuracy: 0.860224, time: 38.0s\n",
      "Final Test Loss: 0.552209, Test Accuracy: 0.860224, Total time: 2293.3s\n"
     ]
    }
   ],
   "source": [
    "loss = nn.CrossEntropyLoss()\n",
    "optimizer = optim.SGD(model.parameters(), lr=0.001,momentum=0.9)\n",
    "\n",
    "metrics = train(model, train_loader, test_loader, loss, optimizer, num_epochs=60)"
   ]
  },
  {
   "cell_type": "markdown",
   "metadata": {
    "colab_type": "text",
    "id": "xbx5REUdc-Xs"
   },
   "source": [
    "**What changes did you make to improve your model?**"
   ]
  },
  {
   "cell_type": "code",
   "execution_count": 16,
   "metadata": {
    "colab": {
     "base_uri": "https://localhost:8080/",
     "height": 573
    },
    "colab_type": "code",
    "executionInfo": {
     "elapsed": 632,
     "status": "ok",
     "timestamp": 1556253322859,
     "user": {
      "displayName": "Qasim Nazir",
      "photoUrl": "https://lh3.googleusercontent.com/-l-ZaWBCgmIs/AAAAAAAAAAI/AAAAAAAAYSo/-zOTCilviDI/s64/photo.jpg",
      "userId": "05547482919120757611"
     },
     "user_tz": 300
    },
    "id": "uItu0w4fZTuG",
    "outputId": "c52a27fa-48b8-4582-c273-4476b8c90ce0"
   },
   "outputs": [
    {
     "data": {
      "image/png": "[encoded data removed]",
      "text/plain": [
       "<Figure size 432x288 with 1 Axes>"
      ]
     },
     "metadata": {
      "tags": []
     },
     "output_type": "display_data"
    },
    {
     "data": {
      "image/png": "[encoded data removed]",
      "text/plain": [
       "<Figure size 432x288 with 1 Axes>"
      ]
     },
     "metadata": {
      "tags": []
     },
     "output_type": "display_data"
    }
   ],
   "source": [
    "plot_graphs(\"AwesomeModel\", metrics)"
   ]
  },
  {
   "cell_type": "markdown",
   "metadata": {
    "colab_type": "text",
    "id": "rWlP2WsodgK0"
   },
   "source": [
    "After you get a nice model, download the test_file.zip and unzip it to get test_file.pt. In colab, you can explore your files from the left side bar. You can also download the files to your machine from there."
   ]
  },
  {
   "cell_type": "code",
   "execution_count": 18,
   "metadata": {
    "colab": {
     "base_uri": "https://localhost:8080/",
     "height": 306
    },
    "colab_type": "code",
    "executionInfo": {
     "elapsed": 1968,
     "status": "ok",
     "timestamp": 1556253351409,
     "user": {
      "displayName": "Qasim Nazir",
      "photoUrl": "https://lh3.googleusercontent.com/-l-ZaWBCgmIs/AAAAAAAAAAI/AAAAAAAAYSo/-zOTCilviDI/s64/photo.jpg",
      "userId": "05547482919120757611"
     },
     "user_tz": 300
    },
    "id": "Z6UZInUCdfQ1",
    "outputId": "9c6db810-93db-45bf-a5bc-d745960fb063"
   },
   "outputs": [
    {
     "name": "stdout",
     "output_type": "stream",
     "text": [
      "--2019-04-26 04:35:49--  http://courses.engr.illinois.edu/cs498aml/sp2019/homeworks/test_file.zip\n",
      "Resolving courses.engr.illinois.edu (courses.engr.illinois.edu)... 130.126.151.9\n",
      "Connecting to courses.engr.illinois.edu (courses.engr.illinois.edu)|130.126.151.9|:80... connected.\n",
      "HTTP request sent, awaiting response... 301 Moved Permanently\n",
      "Location: https://courses.engr.illinois.edu/cs498aml/sp2019/homeworks/test_file.zip [following]\n",
      "--2019-04-26 04:35:49--  https://courses.engr.illinois.edu/cs498aml/sp2019/homeworks/test_file.zip\n",
      "Connecting to courses.engr.illinois.edu (courses.engr.illinois.edu)|130.126.151.9|:443... connected.\n",
      "HTTP request sent, awaiting response... 200 OK\n",
      "Length: 3841776 (3.7M) [application/x-zip-compressed]\n",
      "Saving to: ‘test_file.zip’\n",
      "\n",
      "test_file.zip       100%[===================>]   3.66M  12.1MB/s    in 0.3s    \n",
      "\n",
      "2019-04-26 04:35:50 (12.1 MB/s) - ‘test_file.zip’ saved [3841776/3841776]\n",
      "\n",
      "Archive:  test_file.zip\n",
      "  inflating: test_file.pt            \n"
     ]
    }
   ],
   "source": [
    "!wget http://courses.engr.illinois.edu/cs498aml/sp2019/homeworks/test_file.zip\n",
    "!unzip test_file.zip"
   ]
  },
  {
   "cell_type": "markdown",
   "metadata": {
    "colab_type": "text",
    "id": "7g5caFPreMLT"
   },
   "source": [
    "Then use your model to predict the label of the test images. Fill the remaining code below, where x has two dimensions (batch_size x one image size). Remember to reshpe x accordingly before feeding it into your model. The submission.txt should contain one predicted label (0~9) each line. Submit your submission.txt to the competition in gradscope."
   ]
  },
  {
   "cell_type": "code",
   "execution_count": 0,
   "metadata": {
    "colab": {},
    "colab_type": "code",
    "id": "yNdYAH9XeLlb"
   },
   "outputs": [],
   "source": [
    "import torch.utils.data as Data\n",
    "\n",
    "test_file = 'test_file.pt'\n",
    "pred_file = 'submission.txt'\n",
    "\n",
    "f_pred = open(pred_file,'w') \n",
    "tensor = torch.load(test_file)\n",
    "torch_dataset = Data.TensorDataset(tensor)  \n",
    "test_loader_2 = torch.utils.data.DataLoader(torch_dataset, batch_size=8, shuffle=False, num_workers=2)"
   ]
  },
  {
   "cell_type": "code",
   "execution_count": 0,
   "metadata": {
    "colab": {},
    "colab_type": "code",
    "id": "tjOf38lqxwe7"
   },
   "outputs": [],
   "source": [
    "output_file=np.array([])\n",
    "for ele in test_loader_2:\n",
    "    x = ele[0]\n",
    "    x=x.reshape(-1,3,32,32)\n",
    "    x=x.type(torch.cuda.FloatTensor)\n",
    "    # Fill your code here\n",
    "    outputs = model.net(x)\n",
    "    _, predicted = torch.max(outputs, 1)\n",
    "    output_file=np.append(output_file,  torch.Tensor.cpu(predicted))\n",
    "np.savetxt('submission.txt', output_file, delimiter='\\n', fmt='%d')\n",
    "from google.colab import files\n",
    "files.download('submission.txt')"
   ]
  },
  {
   "cell_type": "markdown",
   "metadata": {
    "colab_type": "text",
    "id": "8-L6F0CMqc-A"
   },
   "source": [
    "\n",
    "# Report\n",
    "\n",
    "## Part 0: Imports and Basic Setup (5 Points)\n",
    "Nothing to report for this part. You will be just scored for finishing the setup.\n",
    "\n",
    "## Part 1: Fully connected neural networks (25 Points)\n",
    "\n",
    "Test (on validation set) accuracy (5 Points): **0.425020** \n",
    "\n",
    "Test loss (5 Points): **1.620814**\n",
    "\n",
    "Training time (5 Points): **54.9 sec**\n",
    "\n",
    "\n",
    "Plots:\n",
    "\n",
    "- Plot a graph of accuracy on validation set vs training steps (5 Points)\n",
    "\n",
    "- Plot a graph of loss on validation set vs training steps (5 Points)\n",
    "\n",
    "\n",
    "## Part 2: Convolution Network (Basic) (35 Points)\n",
    "\n",
    "Tensor dimensions: A good way to debug your network for size mismatches is to print the dimension of output after every layers:\n",
    "\n",
    "(10 Points)\n",
    "\n",
    "Output dimension after 1st conv layer: **16x32x32**\n",
    "\n",
    "Output dimension after 1st max pooling: **16x16x16**\n",
    "\n",
    "Output dimension after 2nd conv layer: **16x16x16**\n",
    "\n",
    "Output dimension after flatten layer: **4096**\n",
    "\n",
    "Output dimension after 1st fully connected layer: **64**\n",
    "\n",
    "Output dimension after 2nd fully connected layer: **10**\n",
    "\n",
    "Test (on validation set) Accuracy (5 Points): **0.584864**\n",
    "\n",
    "Test loss (5 Points): **1.159240**\n",
    "\n",
    "Training time (5 Points): **75.7 sec**\n",
    "\n",
    "\n",
    "Plots:\n",
    "\n",
    "- Plot a graph of accuracy on validation set vs training steps (5 Points)\n",
    "\n",
    "- Plot a graph of loss on validation set vs training steps (5 Points)\n",
    "\n",
    "\n",
    "\n",
    "## Part 3: Convolution Network (Add one or more  suggested changes) (35 Points)\n",
    "\n",
    "Describe the additional changes implemented, your intuition for as to why it works, you may also describe other approaches you experimented with (10 Points):\n",
    "\n",
    "Test (on validation set) Accuracy (5 Points): **0.860224**\n",
    "\n",
    "Test loss (5 Points): **0.552209**\n",
    "\n",
    "Training time (5 Points): **2293.3 sec**\n",
    "\n",
    "\n",
    "Plots:\n",
    "\n",
    "- Plot a graph of accuracy on validation set vs training steps (5 Points)\n",
    "\n",
    "- Plot a graph of loss on validation set vs training steps (5 Points)\n",
    "\n",
    "10 bonus points will be awarded to top 3 scorers on leaderboard (in case of tie for 3rd position everyone tied for 3rd position will get the bonus)"
   ]
  },
  {
   "cell_type": "code",
   "execution_count": 0,
   "metadata": {
    "colab": {},
    "colab_type": "code",
    "id": "cMpXJT3p1tjB"
   },
   "outputs": [],
   "source": []
  }
 ],
 "metadata": {
  "accelerator": "GPU",
  "colab": {
   "collapsed_sections": [],
   "name": "qnazir2_HW10.ipynb",
   "provenance": [
    {
     "file_id": "14dvlwBB_rAgs6tcmaIJOhf_XuUTn-nDA",
     "timestamp": 1555734737137
    }
   ],
   "version": "0.3.2"
  },
  "kernelspec": {
   "display_name": "Python 3",
   "language": "python",
   "name": "python3"
  },
  "language_info": {
   "codemirror_mode": {
    "name": "ipython",
    "version": 3
   },
   "file_extension": ".py",
   "mimetype": "text/x-python",
   "name": "python",
   "nbconvert_exporter": "python",
   "pygments_lexer": "ipython3",
   "version": "3.7.3"
  },
  "toc": {
   "base_numbering": 1,
   "nav_menu": {},
   "number_sections": false,
   "sideBar": true,
   "skip_h1_title": false,
   "title_cell": "Table of Contents",
   "title_sidebar": "Contents",
   "toc_cell": false,
   "toc_position": {},
   "toc_section_display": true,
   "toc_window_display": false
  },
  "varInspector": {
   "cols": {
    "lenName": 16,
    "lenType": 16,
    "lenVar": 40
   },
   "kernels_config": {
    "python": {
     "delete_cmd_postfix": "",
     "delete_cmd_prefix": "del ",
     "library": "var_list.py",
     "varRefreshCmd": "print(var_dic_list())"
    },
    "r": {
     "delete_cmd_postfix": ") ",
     "delete_cmd_prefix": "rm(",
     "library": "var_list.r",
     "varRefreshCmd": "cat(var_dic_list()) "
    }
   },
   "types_to_exclude": [
    "module",
    "function",
    "builtin_function_or_method",
    "instance",
    "_Feature"
   ],
   "window_display": false
  }
 },
 "nbformat": 4,
 "nbformat_minor": 1
}
